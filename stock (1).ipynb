{
 "cells": [
  {
   "cell_type": "code",
   "execution_count": null,
   "metadata": {},
   "outputs": [],
   "source": [
    "import pandas as pd\n",
    "from sklearn.preprocessing import LabelEncoder\n",
    "from sklearn.preprocessing import StandardScaler\n",
    "from sklearn.neighbors import LocalOutlierFactor\n",
    "from sklearn.linear_model import LogisticRegression\n",
    "from sklearn.model_selection import train_test_split\n",
    "from sklearn.metrics import mean_squared_error, mean_absolute_error,r2_score"
   ]
  },
  {
   "cell_type": "code",
   "execution_count": null,
   "metadata": {},
   "outputs": [],
   "source": [
    "df = pd.read_csv(\"/Users/a90530/Downloads/archive/SampleSales.csv\")\n",
    "print(df.dropna())\n",
    "def veri_inceleme(df):\n",
    "    print(\"\\nDataframe'in ilk 5 tanesi\")\n",
    "    print(df.head())\n",
    "    print(\"\\n\\nDataframe'in columnları\")\n",
    "    print(df.columns)\n",
    "    print(\"\\n\\nDataframe hakkında istatistiksel bilgi\")\n",
    "    print(df.describe())\n",
    "    print(\"/Column Sayısı:\")\n",
    "    print(df.shape)\n",
    "    print(\"\\n\\nDataframe hakkındaki bilgileri verir\")\n",
    "    print(df.info())\n",
    "    print(\"\\n\\nDataframe'deki boş girilen hücreleri gösterir\")\n",
    "    print(df.isnull().sum())\n",
    "veri_inceleme(df)\n",
    "\n"
   ]
  },
  {
   "cell_type": "code",
   "execution_count": null,
   "metadata": {},
   "outputs": [],
   "source": [
    "df=df[['ItemID',\"year\",\"WeekIdentifier\",\"NewBasePrice\",\"SalesQuantity\",\"InboundInventory\",\"ProjectedInventory\"]]\n",
    "label_encoder = LabelEncoder()\n",
    "categorical_columns = [\"ItemID\"]\n",
    "for column in categorical_columns:\n",
    "   df[column] = label_encoder.fit_transform(df[column])\n",
    "def bak_korelasyon(df):\n",
    "    # Korelasyon matrisini hesaplama\n",
    "    correlation_matrix = df.corr()\n",
    "    highest_correlations = correlation_matrix.unstack().sort_values(ascending=False)\n",
    "    highest_correlations = highest_correlations[(highest_correlations > 0) & (highest_correlations < 1)]\n",
    "    print(\"En Yüksek Korelasyonlar:\")\n",
    "    print(highest_correlations)\n",
    "\n",
    "    # Korelasyon matrisini görüntüleme\n",
    "    print(\"\\nKorelasyon Matrisi:\")\n",
    "    print(correlation_matrix, \"\\n\\n\")\n",
    "    correlation_matrix['SalesQuantity'].sort_values(ascending=False)\n",
    "\n",
    "bak_korelasyon(df)"
   ]
  },
  {
   "cell_type": "code",
   "execution_count": null,
   "metadata": {},
   "outputs": [],
   "source": [
    "def bak_outlier(df):\n",
    "    # Local Outlier Factor (LOF) modelini oluşturma\n",
    "    lof_model = LocalOutlierFactor(n_neighbors=20, contamination=0.1) \n",
    "\n",
    "    # LOF modelini veri setine uygulama\n",
    "    outlier_scores = lof_model.fit_predict(df)\n",
    "\n",
    "    # Aykırı değerlerin indekslerini alma\n",
    "    outliers_index = df.index[outlier_scores == -1]\n",
    "\n",
    "    # Aykırı değerleri ortalama değer ile değiştirme\n",
    "    df_corrected = df.copy()\n",
    "    for column in df.columns:\n",
    "        mean_value = df[column].mean()\n",
    "        df_corrected.loc[outliers_index, column] = mean_value\n",
    "\n",
    "    # Aykırı değerleri düzeltilmiş veriyi görüntüleme\n",
    "    print(\"Aykırı Değerleri Düzeltildi:\")\n",
    "    print(df_corrected.loc[outliers_index])\n",
    "    return df_corrected\n",
    "bak_outlier(df)"
   ]
  },
  {
   "cell_type": "code",
   "execution_count": null,
   "metadata": {},
   "outputs": [],
   "source": [
    "def yap_scaler(df):\n",
    "    # Standartlaştırma işlemi için StandardScaler kullanma\n",
    "    scaler = StandardScaler()\n",
    "\n",
    "    num_columns = [\"NewBasePrice\"]\n",
    "    scaled_features = scaler.fit_transform(df[num_columns])\n",
    "\n",
    "    # Standartlaştırılmış veriyi DataFrame'e dönüştürme\n",
    "    df_scaled = pd.DataFrame(scaled_features, columns=['NewBasePrice_scaled'])\n",
    "\n",
    "    # Standartlaştırılmış veriyi görüntüleme\n",
    "    print(\"Standartlaştırılmış Veri:\")\n",
    "    print(df_scaled.head())\n",
    "    df = pd.concat([df, df_scaled], axis=1)\n",
    "    df = df.drop(num_columns, axis=1)\n",
    "    return df\n",
    "\n",
    "yap_scaler(df)"
   ]
  },
  {
   "cell_type": "code",
   "execution_count": null,
   "metadata": {},
   "outputs": [],
   "source": [
    "from statsmodels.tsa.arima.model import ARIMA\n",
    "import pmdarima as pm\n",
    "from statsmodels.tsa.stattools import adfuller\n",
    "import warnings\n",
    "\n",
    "# Tarih sütunlarını datetime tipine dönüştürme\n",
    "warnings.filterwarnings('ignore')\n",
    "df['year'] = df['year'] + 4\n",
    "df['SalesQuantity'] = df['SalesQuantity'] + 15\n",
    "df['Date'] = pd.to_datetime(df['year'].astype(str) + '-W' + df['WeekIdentifier'].astype(str) + '-1', format='%G-W%V-%u')\n",
    "# Tarih sütununu index olarak ayarlama \n",
    "df.set_index('Date', inplace=True)\n",
    "\n",
    "# Her ürün için ayrı modelleme \n",
    "def forecast_Stock():\n",
    "    item_id = int(input(\"Bir stok kodu giriniz:  \"))\n",
    "    prediction_date = input(\"YYYY-AA-GG olarak tarihi giriniz:  \")\n",
    "    product_df = df[df['ItemID'] == item_id]\n",
    "    desired_date = pd.to_datetime(prediction_date)\n",
    "\n",
    "\n",
    "    last_date = df.index[-1] \n",
    "    steps_to_desired_date = (desired_date - last_date).days\n",
    "    # Seçilen ürün için ARIMA modeli oluşturma\n",
    "    model = ARIMA(product_df['SalesQuantity'], order=(5, 1, 0))  \n",
    "    model_fit = model.fit()\n",
    "\n",
    "    # Tahmin yapma\n",
    "    forecast_date = pd.to_datetime(prediction_date)\n",
    "    forecast = model_fit.forecast(steps=steps_to_desired_date)  \n",
    "    exact_day_prediction = forecast[-1]  \n",
    "    print(f\"{prediction_date} tarihinde {item_id} stok kodlu ürününün optimum stok sayısı {round(exact_day_prediction)}'dir. \")\n",
    "\n",
    "forecast_Stock()"
   ]
  }
 ],
 "metadata": {
  "kernelspec": {
   "display_name": "base",
   "language": "python",
   "name": "python3"
  },
  "language_info": {
   "codemirror_mode": {
    "name": "ipython",
    "version": 3
   },
   "file_extension": ".py",
   "mimetype": "text/x-python",
   "name": "python",
   "nbconvert_exporter": "python",
   "pygments_lexer": "ipython3",
   "version": "3.11.9"
  }
 },
 "nbformat": 4,
 "nbformat_minor": 2
}
